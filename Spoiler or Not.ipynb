{
 "cells": [
  {
   "cell_type": "code",
   "execution_count": 1,
   "id": "0dcc3520",
   "metadata": {},
   "outputs": [],
   "source": [
    "import pandas as pd\n",
    "import json\n",
    "import nltk\n",
    "import re\n",
    "import string\n",
    "\n",
    "from sklearn.model_selection import train_test_split\n",
    "\n",
    "from sklearn.feature_extraction.text import CountVectorizer\n",
    "from sklearn.compose import make_column_transformer\n",
    "\n",
    "from sklearn.linear_model import LogisticRegression\n",
    "\n",
    "import matplotlib.pyplot as plt \n",
    "from sklearn.metrics import confusion_matrix\n",
    "from sklearn.metrics import ConfusionMatrixDisplay\n",
    "\n",
    "import pickle"
   ]
  },
  {
   "cell_type": "markdown",
   "id": "7757d95a",
   "metadata": {},
   "source": [
    "# Importing Data"
   ]
  },
  {
   "cell_type": "code",
   "execution_count": 6,
   "id": "a1e0180f",
   "metadata": {},
   "outputs": [],
   "source": [
    "reviews = pd.read_json('IMDB_reviews.json',lines = True)\n",
    "details = pd.read_json('IMDB_movie_details.json',lines = True)"
   ]
  },
  {
   "cell_type": "code",
   "execution_count": 7,
   "id": "22c668eb",
   "metadata": {},
   "outputs": [
    {
     "data": {
      "text/html": [
       "<div>\n",
       "<style scoped>\n",
       "    .dataframe tbody tr th:only-of-type {\n",
       "        vertical-align: middle;\n",
       "    }\n",
       "\n",
       "    .dataframe tbody tr th {\n",
       "        vertical-align: top;\n",
       "    }\n",
       "\n",
       "    .dataframe thead th {\n",
       "        text-align: right;\n",
       "    }\n",
       "</style>\n",
       "<table border=\"1\" class=\"dataframe\">\n",
       "  <thead>\n",
       "    <tr style=\"text-align: right;\">\n",
       "      <th></th>\n",
       "      <th>review_date</th>\n",
       "      <th>movie_id</th>\n",
       "      <th>user_id</th>\n",
       "      <th>is_spoiler</th>\n",
       "      <th>review_text</th>\n",
       "      <th>rating</th>\n",
       "      <th>review_summary</th>\n",
       "    </tr>\n",
       "  </thead>\n",
       "  <tbody>\n",
       "    <tr>\n",
       "      <th>0</th>\n",
       "      <td>10 February 2006</td>\n",
       "      <td>tt0111161</td>\n",
       "      <td>ur1898687</td>\n",
       "      <td>True</td>\n",
       "      <td>In its Oscar year, Shawshank Redemption (writt...</td>\n",
       "      <td>10</td>\n",
       "      <td>A classic piece of unforgettable film-making.</td>\n",
       "    </tr>\n",
       "    <tr>\n",
       "      <th>1</th>\n",
       "      <td>6 September 2000</td>\n",
       "      <td>tt0111161</td>\n",
       "      <td>ur0842118</td>\n",
       "      <td>True</td>\n",
       "      <td>The Shawshank Redemption is without a doubt on...</td>\n",
       "      <td>10</td>\n",
       "      <td>Simply amazing. The best film of the 90's.</td>\n",
       "    </tr>\n",
       "    <tr>\n",
       "      <th>2</th>\n",
       "      <td>3 August 2001</td>\n",
       "      <td>tt0111161</td>\n",
       "      <td>ur1285640</td>\n",
       "      <td>True</td>\n",
       "      <td>I believe that this film is the best story eve...</td>\n",
       "      <td>8</td>\n",
       "      <td>The best story ever told on film</td>\n",
       "    </tr>\n",
       "    <tr>\n",
       "      <th>3</th>\n",
       "      <td>1 September 2002</td>\n",
       "      <td>tt0111161</td>\n",
       "      <td>ur1003471</td>\n",
       "      <td>True</td>\n",
       "      <td>**Yes, there are SPOILERS here**This film has ...</td>\n",
       "      <td>10</td>\n",
       "      <td>Busy dying or busy living?</td>\n",
       "    </tr>\n",
       "    <tr>\n",
       "      <th>4</th>\n",
       "      <td>20 May 2004</td>\n",
       "      <td>tt0111161</td>\n",
       "      <td>ur0226855</td>\n",
       "      <td>True</td>\n",
       "      <td>At the heart of this extraordinary movie is a ...</td>\n",
       "      <td>8</td>\n",
       "      <td>Great story, wondrously told and acted</td>\n",
       "    </tr>\n",
       "  </tbody>\n",
       "</table>\n",
       "</div>"
      ],
      "text/plain": [
       "        review_date   movie_id    user_id  is_spoiler  \\\n",
       "0  10 February 2006  tt0111161  ur1898687        True   \n",
       "1  6 September 2000  tt0111161  ur0842118        True   \n",
       "2     3 August 2001  tt0111161  ur1285640        True   \n",
       "3  1 September 2002  tt0111161  ur1003471        True   \n",
       "4       20 May 2004  tt0111161  ur0226855        True   \n",
       "\n",
       "                                         review_text  rating  \\\n",
       "0  In its Oscar year, Shawshank Redemption (writt...      10   \n",
       "1  The Shawshank Redemption is without a doubt on...      10   \n",
       "2  I believe that this film is the best story eve...       8   \n",
       "3  **Yes, there are SPOILERS here**This film has ...      10   \n",
       "4  At the heart of this extraordinary movie is a ...       8   \n",
       "\n",
       "                                  review_summary  \n",
       "0  A classic piece of unforgettable film-making.  \n",
       "1     Simply amazing. The best film of the 90's.  \n",
       "2               The best story ever told on film  \n",
       "3                     Busy dying or busy living?  \n",
       "4         Great story, wondrously told and acted  "
      ]
     },
     "execution_count": 7,
     "metadata": {},
     "output_type": "execute_result"
    }
   ],
   "source": [
    "reviews.head()"
   ]
  },
  {
   "cell_type": "code",
   "execution_count": 8,
   "id": "6522ae68",
   "metadata": {},
   "outputs": [],
   "source": [
    "reviews.drop(['review_date','user_id','review_summary','rating'],axis = 1, inplace = True)"
   ]
  },
  {
   "cell_type": "code",
   "execution_count": 9,
   "id": "ee0af124",
   "metadata": {},
   "outputs": [
    {
     "data": {
      "text/html": [
       "<div>\n",
       "<style scoped>\n",
       "    .dataframe tbody tr th:only-of-type {\n",
       "        vertical-align: middle;\n",
       "    }\n",
       "\n",
       "    .dataframe tbody tr th {\n",
       "        vertical-align: top;\n",
       "    }\n",
       "\n",
       "    .dataframe thead th {\n",
       "        text-align: right;\n",
       "    }\n",
       "</style>\n",
       "<table border=\"1\" class=\"dataframe\">\n",
       "  <thead>\n",
       "    <tr style=\"text-align: right;\">\n",
       "      <th></th>\n",
       "      <th>movie_id</th>\n",
       "      <th>is_spoiler</th>\n",
       "      <th>review_text</th>\n",
       "    </tr>\n",
       "  </thead>\n",
       "  <tbody>\n",
       "    <tr>\n",
       "      <th>0</th>\n",
       "      <td>tt0111161</td>\n",
       "      <td>True</td>\n",
       "      <td>In its Oscar year, Shawshank Redemption (writt...</td>\n",
       "    </tr>\n",
       "    <tr>\n",
       "      <th>1</th>\n",
       "      <td>tt0111161</td>\n",
       "      <td>True</td>\n",
       "      <td>The Shawshank Redemption is without a doubt on...</td>\n",
       "    </tr>\n",
       "    <tr>\n",
       "      <th>2</th>\n",
       "      <td>tt0111161</td>\n",
       "      <td>True</td>\n",
       "      <td>I believe that this film is the best story eve...</td>\n",
       "    </tr>\n",
       "    <tr>\n",
       "      <th>3</th>\n",
       "      <td>tt0111161</td>\n",
       "      <td>True</td>\n",
       "      <td>**Yes, there are SPOILERS here**This film has ...</td>\n",
       "    </tr>\n",
       "    <tr>\n",
       "      <th>4</th>\n",
       "      <td>tt0111161</td>\n",
       "      <td>True</td>\n",
       "      <td>At the heart of this extraordinary movie is a ...</td>\n",
       "    </tr>\n",
       "  </tbody>\n",
       "</table>\n",
       "</div>"
      ],
      "text/plain": [
       "    movie_id  is_spoiler                                        review_text\n",
       "0  tt0111161        True  In its Oscar year, Shawshank Redemption (writt...\n",
       "1  tt0111161        True  The Shawshank Redemption is without a doubt on...\n",
       "2  tt0111161        True  I believe that this film is the best story eve...\n",
       "3  tt0111161        True  **Yes, there are SPOILERS here**This film has ...\n",
       "4  tt0111161        True  At the heart of this extraordinary movie is a ..."
      ]
     },
     "execution_count": 9,
     "metadata": {},
     "output_type": "execute_result"
    }
   ],
   "source": [
    "reviews.head()"
   ]
  },
  {
   "cell_type": "code",
   "execution_count": 10,
   "id": "9a241315",
   "metadata": {},
   "outputs": [
    {
     "data": {
      "text/html": [
       "<div>\n",
       "<style scoped>\n",
       "    .dataframe tbody tr th:only-of-type {\n",
       "        vertical-align: middle;\n",
       "    }\n",
       "\n",
       "    .dataframe tbody tr th {\n",
       "        vertical-align: top;\n",
       "    }\n",
       "\n",
       "    .dataframe thead th {\n",
       "        text-align: right;\n",
       "    }\n",
       "</style>\n",
       "<table border=\"1\" class=\"dataframe\">\n",
       "  <thead>\n",
       "    <tr style=\"text-align: right;\">\n",
       "      <th></th>\n",
       "      <th>movie_id</th>\n",
       "      <th>plot_summary</th>\n",
       "      <th>duration</th>\n",
       "      <th>genre</th>\n",
       "      <th>rating</th>\n",
       "      <th>release_date</th>\n",
       "      <th>plot_synopsis</th>\n",
       "    </tr>\n",
       "  </thead>\n",
       "  <tbody>\n",
       "    <tr>\n",
       "      <th>0</th>\n",
       "      <td>tt0105112</td>\n",
       "      <td>Former CIA analyst, Jack Ryan is in England wi...</td>\n",
       "      <td>1h 57min</td>\n",
       "      <td>[Action, Thriller]</td>\n",
       "      <td>6.9</td>\n",
       "      <td>1992-06-05</td>\n",
       "      <td>Jack Ryan (Ford) is on a \"working vacation\" in...</td>\n",
       "    </tr>\n",
       "    <tr>\n",
       "      <th>1</th>\n",
       "      <td>tt1204975</td>\n",
       "      <td>Billy (Michael Douglas), Paddy (Robert De Niro...</td>\n",
       "      <td>1h 45min</td>\n",
       "      <td>[Comedy]</td>\n",
       "      <td>6.6</td>\n",
       "      <td>2013-11-01</td>\n",
       "      <td>Four boys around the age of 10 are friends in ...</td>\n",
       "    </tr>\n",
       "    <tr>\n",
       "      <th>2</th>\n",
       "      <td>tt0243655</td>\n",
       "      <td>The setting is Camp Firewood, the year 1981. I...</td>\n",
       "      <td>1h 37min</td>\n",
       "      <td>[Comedy, Romance]</td>\n",
       "      <td>6.7</td>\n",
       "      <td>2002-04-11</td>\n",
       "      <td></td>\n",
       "    </tr>\n",
       "    <tr>\n",
       "      <th>3</th>\n",
       "      <td>tt0040897</td>\n",
       "      <td>Fred C. Dobbs and Bob Curtin, both down on the...</td>\n",
       "      <td>2h 6min</td>\n",
       "      <td>[Adventure, Drama, Western]</td>\n",
       "      <td>8.3</td>\n",
       "      <td>1948-01-24</td>\n",
       "      <td>Fred Dobbs (Humphrey Bogart) and Bob Curtin (T...</td>\n",
       "    </tr>\n",
       "    <tr>\n",
       "      <th>4</th>\n",
       "      <td>tt0126886</td>\n",
       "      <td>Tracy Flick is running unopposed for this year...</td>\n",
       "      <td>1h 43min</td>\n",
       "      <td>[Comedy, Drama, Romance]</td>\n",
       "      <td>7.3</td>\n",
       "      <td>1999-05-07</td>\n",
       "      <td>Jim McAllister (Matthew Broderick) is a much-a...</td>\n",
       "    </tr>\n",
       "  </tbody>\n",
       "</table>\n",
       "</div>"
      ],
      "text/plain": [
       "    movie_id                                       plot_summary  duration  \\\n",
       "0  tt0105112  Former CIA analyst, Jack Ryan is in England wi...  1h 57min   \n",
       "1  tt1204975  Billy (Michael Douglas), Paddy (Robert De Niro...  1h 45min   \n",
       "2  tt0243655  The setting is Camp Firewood, the year 1981. I...  1h 37min   \n",
       "3  tt0040897  Fred C. Dobbs and Bob Curtin, both down on the...   2h 6min   \n",
       "4  tt0126886  Tracy Flick is running unopposed for this year...  1h 43min   \n",
       "\n",
       "                         genre  rating release_date  \\\n",
       "0           [Action, Thriller]     6.9   1992-06-05   \n",
       "1                     [Comedy]     6.6   2013-11-01   \n",
       "2            [Comedy, Romance]     6.7   2002-04-11   \n",
       "3  [Adventure, Drama, Western]     8.3   1948-01-24   \n",
       "4     [Comedy, Drama, Romance]     7.3   1999-05-07   \n",
       "\n",
       "                                       plot_synopsis  \n",
       "0  Jack Ryan (Ford) is on a \"working vacation\" in...  \n",
       "1  Four boys around the age of 10 are friends in ...  \n",
       "2                                                     \n",
       "3  Fred Dobbs (Humphrey Bogart) and Bob Curtin (T...  \n",
       "4  Jim McAllister (Matthew Broderick) is a much-a...  "
      ]
     },
     "execution_count": 10,
     "metadata": {},
     "output_type": "execute_result"
    }
   ],
   "source": [
    "details.head()"
   ]
  },
  {
   "cell_type": "code",
   "execution_count": 11,
   "id": "6a453465",
   "metadata": {},
   "outputs": [],
   "source": [
    "details.drop(['plot_summary','duration','genre','rating','release_date'],axis = 1,inplace = True)"
   ]
  },
  {
   "cell_type": "code",
   "execution_count": 12,
   "id": "28356fbe",
   "metadata": {},
   "outputs": [
    {
     "data": {
      "text/html": [
       "<div>\n",
       "<style scoped>\n",
       "    .dataframe tbody tr th:only-of-type {\n",
       "        vertical-align: middle;\n",
       "    }\n",
       "\n",
       "    .dataframe tbody tr th {\n",
       "        vertical-align: top;\n",
       "    }\n",
       "\n",
       "    .dataframe thead th {\n",
       "        text-align: right;\n",
       "    }\n",
       "</style>\n",
       "<table border=\"1\" class=\"dataframe\">\n",
       "  <thead>\n",
       "    <tr style=\"text-align: right;\">\n",
       "      <th></th>\n",
       "      <th>movie_id</th>\n",
       "      <th>plot_synopsis</th>\n",
       "    </tr>\n",
       "  </thead>\n",
       "  <tbody>\n",
       "    <tr>\n",
       "      <th>0</th>\n",
       "      <td>tt0105112</td>\n",
       "      <td>Jack Ryan (Ford) is on a \"working vacation\" in...</td>\n",
       "    </tr>\n",
       "    <tr>\n",
       "      <th>1</th>\n",
       "      <td>tt1204975</td>\n",
       "      <td>Four boys around the age of 10 are friends in ...</td>\n",
       "    </tr>\n",
       "    <tr>\n",
       "      <th>2</th>\n",
       "      <td>tt0243655</td>\n",
       "      <td></td>\n",
       "    </tr>\n",
       "    <tr>\n",
       "      <th>3</th>\n",
       "      <td>tt0040897</td>\n",
       "      <td>Fred Dobbs (Humphrey Bogart) and Bob Curtin (T...</td>\n",
       "    </tr>\n",
       "    <tr>\n",
       "      <th>4</th>\n",
       "      <td>tt0126886</td>\n",
       "      <td>Jim McAllister (Matthew Broderick) is a much-a...</td>\n",
       "    </tr>\n",
       "  </tbody>\n",
       "</table>\n",
       "</div>"
      ],
      "text/plain": [
       "    movie_id                                      plot_synopsis\n",
       "0  tt0105112  Jack Ryan (Ford) is on a \"working vacation\" in...\n",
       "1  tt1204975  Four boys around the age of 10 are friends in ...\n",
       "2  tt0243655                                                   \n",
       "3  tt0040897  Fred Dobbs (Humphrey Bogart) and Bob Curtin (T...\n",
       "4  tt0126886  Jim McAllister (Matthew Broderick) is a much-a..."
      ]
     },
     "execution_count": 12,
     "metadata": {},
     "output_type": "execute_result"
    }
   ],
   "source": [
    "details.head()"
   ]
  },
  {
   "cell_type": "markdown",
   "id": "3cbcc952",
   "metadata": {},
   "source": [
    "# Cleaning Data"
   ]
  },
  {
   "cell_type": "code",
   "execution_count": 13,
   "id": "da735e69",
   "metadata": {},
   "outputs": [],
   "source": [
    "details = details[details['plot_synopsis'] != '']"
   ]
  },
  {
   "cell_type": "code",
   "execution_count": 14,
   "id": "a5116e17",
   "metadata": {},
   "outputs": [
    {
     "data": {
      "text/html": [
       "<div>\n",
       "<style scoped>\n",
       "    .dataframe tbody tr th:only-of-type {\n",
       "        vertical-align: middle;\n",
       "    }\n",
       "\n",
       "    .dataframe tbody tr th {\n",
       "        vertical-align: top;\n",
       "    }\n",
       "\n",
       "    .dataframe thead th {\n",
       "        text-align: right;\n",
       "    }\n",
       "</style>\n",
       "<table border=\"1\" class=\"dataframe\">\n",
       "  <thead>\n",
       "    <tr style=\"text-align: right;\">\n",
       "      <th></th>\n",
       "      <th>movie_id</th>\n",
       "      <th>plot_synopsis</th>\n",
       "    </tr>\n",
       "  </thead>\n",
       "  <tbody>\n",
       "    <tr>\n",
       "      <th>0</th>\n",
       "      <td>tt0105112</td>\n",
       "      <td>Jack Ryan (Ford) is on a \"working vacation\" in...</td>\n",
       "    </tr>\n",
       "    <tr>\n",
       "      <th>1</th>\n",
       "      <td>tt1204975</td>\n",
       "      <td>Four boys around the age of 10 are friends in ...</td>\n",
       "    </tr>\n",
       "    <tr>\n",
       "      <th>3</th>\n",
       "      <td>tt0040897</td>\n",
       "      <td>Fred Dobbs (Humphrey Bogart) and Bob Curtin (T...</td>\n",
       "    </tr>\n",
       "    <tr>\n",
       "      <th>4</th>\n",
       "      <td>tt0126886</td>\n",
       "      <td>Jim McAllister (Matthew Broderick) is a much-a...</td>\n",
       "    </tr>\n",
       "    <tr>\n",
       "      <th>5</th>\n",
       "      <td>tt0286716</td>\n",
       "      <td>Bruce Banner (Eric Bana) is a research scienti...</td>\n",
       "    </tr>\n",
       "  </tbody>\n",
       "</table>\n",
       "</div>"
      ],
      "text/plain": [
       "    movie_id                                      plot_synopsis\n",
       "0  tt0105112  Jack Ryan (Ford) is on a \"working vacation\" in...\n",
       "1  tt1204975  Four boys around the age of 10 are friends in ...\n",
       "3  tt0040897  Fred Dobbs (Humphrey Bogart) and Bob Curtin (T...\n",
       "4  tt0126886  Jim McAllister (Matthew Broderick) is a much-a...\n",
       "5  tt0286716  Bruce Banner (Eric Bana) is a research scienti..."
      ]
     },
     "execution_count": 14,
     "metadata": {},
     "output_type": "execute_result"
    }
   ],
   "source": [
    "details.head()"
   ]
  },
  {
   "cell_type": "code",
   "execution_count": 15,
   "id": "a0af9f4b",
   "metadata": {},
   "outputs": [],
   "source": [
    "def remove_punc(txt):\n",
    "    new_txt = \"\"\n",
    "    punctuation = string.punctuation\n",
    "    for letter in txt:\n",
    "        if letter.isdigit() == False:\n",
    "            if letter == '.' or letter == '*':\n",
    "                new_txt += ''\n",
    "            elif letter not in punctuation and letter != '.':\n",
    "                new_txt += letter.lower()\n",
    "    return new_txt\n",
    "\n",
    "#Function to remove stopwords\n",
    "stopwords = nltk.corpus.stopwords.words('english')\n",
    "def remove_stopwords(tokens):\n",
    "    new_txt = \"\"\n",
    "    for word in tokens.split():\n",
    "        if word not in stopwords:\n",
    "            new_txt += word +\" \"\n",
    "    return new_txt\n",
    "\n",
    "#Function to lemmatize text\n",
    "Lem = nltk.WordNetLemmatizer()\n",
    "def lemmatize_text(tokens):\n",
    "    new_txt = \"\"\n",
    "    for word in tokens.split():\n",
    "        new_txt += Lem.lemmatize(word) + \" \"\n",
    "    return new_txt"
   ]
  },
  {
   "cell_type": "code",
   "execution_count": 18,
   "id": "6ce2c205",
   "metadata": {},
   "outputs": [],
   "source": [
    "reviews['review_text'] = reviews['review_text'].apply(lambda x: remove_punc(x))\n",
    "details['plot_synopsis'] = details['plot_synopsis'].apply(lambda x: remove_punc(x))"
   ]
  },
  {
   "cell_type": "code",
   "execution_count": 20,
   "id": "5f15c4b9",
   "metadata": {},
   "outputs": [],
   "source": [
    "reviews['review_text'] = reviews['review_text'].apply(lambda x: remove_stopwords(x))\n",
    "details['plot_synopsis'] = details['plot_synopsis'].apply(lambda x: remove_stopwords(x))"
   ]
  },
  {
   "cell_type": "code",
   "execution_count": 21,
   "id": "faba4807",
   "metadata": {},
   "outputs": [],
   "source": [
    "reviews['review_text'] = reviews['review_text'].apply(lambda x: lemmatize_text(x))\n",
    "details['plot_synopsis'] = details['plot_synopsis'].apply(lambda x: lemmatize_text(x))"
   ]
  },
  {
   "cell_type": "markdown",
   "id": "11a0349f",
   "metadata": {},
   "source": [
    "# Model Development"
   ]
  },
  {
   "cell_type": "code",
   "execution_count": 5,
   "id": "5c52e571",
   "metadata": {},
   "outputs": [],
   "source": [
    "reviews = pd.read_csv('lemm_rev.csv')\n",
    "details = pd.read_csv('lemm_det.csv')\n",
    "reviews.drop('Unnamed: 0',axis = 1,inplace = True)\n",
    "details.drop('Unnamed: 0',axis = 1,inplace = True)"
   ]
  },
  {
   "cell_type": "code",
   "execution_count": 7,
   "id": "5c233852",
   "metadata": {},
   "outputs": [
    {
     "data": {
      "text/html": [
       "<div>\n",
       "<style scoped>\n",
       "    .dataframe tbody tr th:only-of-type {\n",
       "        vertical-align: middle;\n",
       "    }\n",
       "\n",
       "    .dataframe tbody tr th {\n",
       "        vertical-align: top;\n",
       "    }\n",
       "\n",
       "    .dataframe thead th {\n",
       "        text-align: right;\n",
       "    }\n",
       "</style>\n",
       "<table border=\"1\" class=\"dataframe\">\n",
       "  <thead>\n",
       "    <tr style=\"text-align: right;\">\n",
       "      <th></th>\n",
       "      <th>is_spoiler</th>\n",
       "      <th>review_text</th>\n",
       "      <th>plot_synopsis</th>\n",
       "    </tr>\n",
       "  </thead>\n",
       "  <tbody>\n",
       "    <tr>\n",
       "      <th>0</th>\n",
       "      <td>1</td>\n",
       "      <td>oscar year shawshank redemption written direct...</td>\n",
       "      <td>andy dufresne tim robbins banker maine convict...</td>\n",
       "    </tr>\n",
       "    <tr>\n",
       "      <th>1</th>\n",
       "      <td>1</td>\n",
       "      <td>shawshank redemption without doubt one brillia...</td>\n",
       "      <td>andy dufresne tim robbins banker maine convict...</td>\n",
       "    </tr>\n",
       "    <tr>\n",
       "      <th>2</th>\n",
       "      <td>1</td>\n",
       "      <td>believe film best story ever told film im tell...</td>\n",
       "      <td>andy dufresne tim robbins banker maine convict...</td>\n",
       "    </tr>\n",
       "    <tr>\n",
       "      <th>3</th>\n",
       "      <td>1</td>\n",
       "      <td>yes spoiler herethis film emotional impact fin...</td>\n",
       "      <td>andy dufresne tim robbins banker maine convict...</td>\n",
       "    </tr>\n",
       "    <tr>\n",
       "      <th>4</th>\n",
       "      <td>1</td>\n",
       "      <td>heart extraordinary movie brilliant indelible ...</td>\n",
       "      <td>andy dufresne tim robbins banker maine convict...</td>\n",
       "    </tr>\n",
       "  </tbody>\n",
       "</table>\n",
       "</div>"
      ],
      "text/plain": [
       "   is_spoiler                                        review_text  \\\n",
       "0           1  oscar year shawshank redemption written direct...   \n",
       "1           1  shawshank redemption without doubt one brillia...   \n",
       "2           1  believe film best story ever told film im tell...   \n",
       "3           1  yes spoiler herethis film emotional impact fin...   \n",
       "4           1  heart extraordinary movie brilliant indelible ...   \n",
       "\n",
       "                                       plot_synopsis  \n",
       "0  andy dufresne tim robbins banker maine convict...  \n",
       "1  andy dufresne tim robbins banker maine convict...  \n",
       "2  andy dufresne tim robbins banker maine convict...  \n",
       "3  andy dufresne tim robbins banker maine convict...  \n",
       "4  andy dufresne tim robbins banker maine convict...  "
      ]
     },
     "execution_count": 7,
     "metadata": {},
     "output_type": "execute_result"
    }
   ],
   "source": [
    "combined = pd.merge(reviews,details)\n",
    "combined.drop('movie_id',axis = 1,inplace = True)\n",
    "combined['is_spoiler'] = combined['is_spoiler'].astype('int')\n",
    "combined.head()"
   ]
  },
  {
   "cell_type": "code",
   "execution_count": 8,
   "id": "baa35328",
   "metadata": {},
   "outputs": [],
   "source": [
    "X = combined.drop('is_spoiler',axis = 1)\n",
    "y = combined['is_spoiler']"
   ]
  },
  {
   "cell_type": "code",
   "execution_count": 9,
   "id": "185621b5",
   "metadata": {},
   "outputs": [],
   "source": [
    "cv = CountVectorizer(lowercase = False)\n",
    "ct = make_column_transformer((cv,'review_text'),(cv,'plot_synopsis'))\n",
    "X = ct.fit_transform(X)"
   ]
  },
  {
   "cell_type": "code",
   "execution_count": 10,
   "id": "7205acc2",
   "metadata": {},
   "outputs": [],
   "source": [
    "pickle.dump(ct,open('ct.pkl','wb'))"
   ]
  },
  {
   "cell_type": "code",
   "execution_count": 11,
   "id": "81e7b680",
   "metadata": {},
   "outputs": [],
   "source": [
    "X_train, X_test, y_train,y_test = train_test_split(X,y,test_size = 0.25)"
   ]
  },
  {
   "cell_type": "code",
   "execution_count": 12,
   "id": "0ebd6b74",
   "metadata": {},
   "outputs": [
    {
     "name": "stderr",
     "output_type": "stream",
     "text": [
      "c:\\users\\akhil\\appdata\\local\\programs\\python\\python39\\lib\\site-packages\\sklearn\\linear_model\\_sag.py:350: ConvergenceWarning: The max_iter was reached which means the coef_ did not converge\n",
      "  warnings.warn(\n"
     ]
    },
    {
     "data": {
      "text/plain": [
       "0.7751935682629707"
      ]
     },
     "execution_count": 12,
     "metadata": {},
     "output_type": "execute_result"
    }
   ],
   "source": [
    "lr = LogisticRegression(solver = 'sag',max_iter = 300)\n",
    "lr.fit(X_train,y_train)\n",
    "lr.score(X_test,y_test)"
   ]
  },
  {
   "cell_type": "code",
   "execution_count": 13,
   "id": "6e24a81f",
   "metadata": {},
   "outputs": [],
   "source": [
    "pickle.dump(lr,open('lr.pkl','wb'))"
   ]
  },
  {
   "cell_type": "markdown",
   "id": "a85297e0",
   "metadata": {},
   "source": [
    "# Confusion Matrix"
   ]
  },
  {
   "cell_type": "code",
   "execution_count": 14,
   "id": "793810b4",
   "metadata": {},
   "outputs": [
    {
     "data": {
      "image/png": "[encoded data removed]",
      "text/plain": [
       "<Figure size 640x480 with 2 Axes>"
      ]
     },
     "metadata": {},
     "output_type": "display_data"
    }
   ],
   "source": [
    "y_pred = lr.predict(X_test)\n",
    "cm = confusion_matrix(y_test,y_pred)\n",
    "cm_display = ConfusionMatrixDisplay(confusion_matrix = cm, \n",
    "                                            display_labels = [False, True])\n",
    "cm_display.plot()\n",
    "plt.show()"
   ]
  },
  {
   "cell_type": "code",
   "execution_count": null,
   "id": "84fbd5cf",
   "metadata": {},
   "outputs": [],
   "source": []
  }
 ],
 "metadata": {
  "kernelspec": {
   "display_name": "Python 3 (ipykernel)",
   "language": "python",
   "name": "python3"
  },
  "language_info": {
   "codemirror_mode": {
    "name": "ipython",
    "version": 3
   },
   "file_extension": ".py",
   "mimetype": "text/x-python",
   "name": "python",
   "nbconvert_exporter": "python",
   "pygments_lexer": "ipython3",
   "version": "3.9.0"
  }
 },
 "nbformat": 4,
 "nbformat_minor": 5
}
